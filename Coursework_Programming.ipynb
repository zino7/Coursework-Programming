{
 "cells": [
  {
   "cell_type": "markdown",
   "id": "c57731c9-47f7-4256-9238-4c83811bc364",
   "metadata": {},
   "source": [
    "# Welcome to the COVID-19 Dashboard\n",
    "\n",
    "This dashboard allows you to explore COVID-19 Cases, Hospital Admissions, Ventilator Bed Occupancy, data for England and Wales."
   ]
  },
  {
   "cell_type": "markdown",
   "id": "91d50e61-7bbd-48c6-af0a-b719c98471db",
   "metadata": {},
   "source": [
    "## Instructions:\n",
    "1. Choose a Country: Select 'England' or 'Wales' from the dropdown.\n",
    "2. Select Data Column: Choose a data column to plot from the dropdown (Cases, Hospital Admissions, or Ventilator Bed Occupancy).\n",
    "3. Click 'Update Data' to refresh the COVID-19 data.\n",
    "4. Click 'Plot Data' to generate the selected graph."
   ]
  },
  {
   "cell_type": "code",
   "execution_count": 11,
   "id": "1730cffd-22c6-40f7-ac55-6593b4d03a77",
   "metadata": {},
   "outputs": [
    {
     "data": {
      "application/vnd.jupyter.widget-view+json": {
       "model_id": "0847663f72eb40fa8be137c0a6377876",
       "version_major": 2,
       "version_minor": 0
      },
      "text/plain": [
       "Dropdown(description='Country:', options=('England', 'Wales'), value='England')"
      ]
     },
     "metadata": {},
     "output_type": "display_data"
    },
    {
     "data": {
      "application/vnd.jupyter.widget-view+json": {
       "model_id": "cdb96b5638d0458584ee983d97e1cc45",
       "version_major": 2,
       "version_minor": 0
      },
      "text/plain": [
       "Dropdown(description='Column:', options=('All', 'Cases', 'Hospital Admissions', 'Ventilator Bed Occupancy'), v…"
      ]
     },
     "metadata": {},
     "output_type": "display_data"
    },
    {
     "data": {
      "application/vnd.jupyter.widget-view+json": {
       "model_id": "c9cee371f0974b9486139f4e71db23b0",
       "version_major": 2,
       "version_minor": 0
      },
      "text/plain": [
       "Button(button_style='info', description='Update Data', icon='exclamation', style=ButtonStyle())"
      ]
     },
     "metadata": {},
     "output_type": "display_data"
    },
    {
     "data": {
      "application/vnd.jupyter.widget-view+json": {
       "model_id": "ca7b6d3213d54c0f9ea85ca83f5c3151",
       "version_major": 2,
       "version_minor": 0
      },
      "text/plain": [
       "Button(button_style='success', description='Plot Data', icon='line-chart', style=ButtonStyle())"
      ]
     },
     "metadata": {},
     "output_type": "display_data"
    },
    {
     "data": {
      "application/vnd.jupyter.widget-view+json": {
       "model_id": "4566e4b058fe4a7f8da7a0f17defcbdb",
       "version_major": 2,
       "version_minor": 0
      },
      "text/plain": [
       "Label(value='')"
      ]
     },
     "metadata": {},
     "output_type": "display_data"
    },
    {
     "data": {
      "application/vnd.jupyter.widget-view+json": {
       "model_id": "5952284d52ca48bf8d62575dc545d9cc",
       "version_major": 2,
       "version_minor": 0
      },
      "text/plain": [
       "Output()"
      ]
     },
     "metadata": {},
     "output_type": "display_data"
    }
   ],
   "source": [
    "from uk_covid19 import Cov19API\n",
    "import pandas as pd\n",
    "import matplotlib.pyplot as plt\n",
    "import ipywidgets as widgets\n",
    "from IPython.display import display, HTML\n",
    "import json\n",
    "\n",
    "\n",
    "%matplotlib inline\n",
    "plt.rcParams['figure.dpi'] = 100\n",
    "\n",
    "def fetch_data_for_nation(area_name):\n",
    "    \"\"\"Updates the Api of the specific area Name\"\"\"\n",
    "    filters = [\n",
    "        'areaType=nation',\n",
    "        f'areaName={area_name}'\n",
    "    ]\n",
    "\n",
    "    structure = {\n",
    "        'Cases': 'newCasesByPublishDate',\n",
    "        'Hospital Admissions': 'newAdmissions',\n",
    "        'Ventilator Bed Occupancy': 'covidOccupiedMVBeds',\n",
    "        'date': 'date',\n",
    "        'Area Name': 'areaName'\n",
    "    }\n",
    "\n",
    "    api = Cov19API(filters=filters, structure=structure)\n",
    "    return api.get_json()\n",
    "\n",
    "with open('hospitalEngland.json', 'r') as file:\n",
    "    data_england = json.load(file)\n",
    "\n",
    "with open('hospitalWales.json', 'r') as file:\n",
    "    data_wales = json.load(file)\n",
    "\n",
    "\n",
    "datalist_england = data_england['data']\n",
    "datalist_wales = data_wales['data']\n",
    "\n",
    "def parse_date(datestring):\n",
    "    \"\"\"Changes the format of the dates\"\"\"\n",
    "    return pd.to_datetime(datestring, format=\"%Y-%m-%d\")\n",
    "\n",
    "def wrangle_data(datalist, area_name):\n",
    "    \"\"\"Wrangles the Data, Finds the min start date and then the end date, \n",
    "    and indexes them from the earliest date to the latest, and the frequency is set to daily.\n",
    "    Then the a dataframe is created with the specific columns. Last the DataFrame is Populated\"\"\"\n",
    "    dates = [parse_date(dictionary['date']) for dictionary in datalist]\n",
    "    startdate = min(dates)\n",
    "    enddate = max(dates)\n",
    "    index = pd.date_range(startdate, enddate, freq='D')\n",
    "    df = pd.DataFrame(index=index, columns=['Cases', 'Hospital Admissions', 'Ventilator Bed Occupancy'])\n",
    "\n",
    "    for entry in datalist:\n",
    "        date = parse_date(entry['date'])\n",
    "        for column in ['Cases', 'Hospital Admissions', 'Ventilator Bed Occupancy']:\n",
    "            value = 0.0 if entry.get(column) is None else float(entry[column])\n",
    "            df.loc[date, column] = value\n",
    "\n",
    "    df.fillna(0.0, inplace=True)\n",
    "    return df\n",
    "\n",
    "status_label = widgets.Label() #The status label widget\n",
    "\n",
    "def update_dashboard(button):\n",
    "    \"\"\"The update api button. When it presses it will retrieve both,\n",
    "    areas and update their apis. It will create the according json files \n",
    "    with orientation records. The wrangle function will be called, wrangle the data and create DataFrames. Then create a pickle. \n",
    "    status Loading Data will appear and as soon as\n",
    "    everything is done either a successfull status will appear or an exception status will appear\"\"\"\n",
    "    status_label.value = \"Loading Data...\"\n",
    "    try:\n",
    "        hospitalEngland = fetch_data_for_nation('England')\n",
    "        hospitalWales = fetch_data_for_nation('Wales')\n",
    "\n",
    "        df_england = wrangle_data(hospitalEngland['data'], 'England')\n",
    "        df_wales = wrangle_data(hospitalWales['data'], 'Wales')\n",
    "\n",
    "        df_england.to_json(\"hospitalsEngland.json\", orient='records')\n",
    "        df_wales.to_json(\"hospitalsWales.json\", orient='records')\n",
    "        df_england.to_pickle(\"hospitalsEngland.pkl\")\n",
    "        df_wales.to_pickle(\"hospitalsWales.pkl\")\n",
    "\n",
    "        status_label.value = \"Data Loaded and Saved Successfully\"\n",
    "    except Exception as exe:\n",
    "        status_label.value = f\"Failed to load data: {exe}\"\n",
    "\n",
    "update_button = widgets.Button(description=\"Update Data\", button_style='info', icon='exclamation')\n",
    "update_button.on_click(update_dashboard)\n",
    "\n",
    "output_widget = widgets.Output()\n",
    "\n",
    "def load_data(country):\n",
    "    \"\"\"Whichever area is chosen the appropriate pickle file will be read\"\"\"\n",
    "    if country == 'England':\n",
    "        return pd.read_pickle('hospitalsEngland.pkl')\n",
    "    elif country == 'Wales':\n",
    "        return pd.read_pickle('hospitalsWales.pkl')\n",
    "\n",
    "def update_plot(button):\n",
    "    \"\"\"An all value or a specific column will be chosen and the appropriate graph will be created, when the plot button will be pressed\"\"\"\n",
    "    with output_widget:\n",
    "        output_widget.clear_output()\n",
    "        df = load_data(country_dropdown.value)\n",
    "        column = column_dropdown.value\n",
    "\n",
    "        plt.figure(figsize=(10, 6))\n",
    "        if column == 'All':\n",
    "            df.plot()\n",
    "            plt.ylabel('Values')\n",
    "        else:\n",
    "            df[column].plot()\n",
    "            plt.ylabel(column)\n",
    "\n",
    "        plt.title(f'{column} Over Time in {country_dropdown.value}')\n",
    "        plt.xlabel('Date')\n",
    "        plt.xticks(rotation=45)\n",
    "        plt.grid(True)\n",
    "        plt.show()\n",
    "\n",
    "\n",
    "# explanation_text = widgets.HTML(\n",
    "#     value=\"<h3>Welcome to the COVID-19 Dashboard</h3>\"\n",
    "#            \"<p>This dashboard allows you to explore COVID-19 Cases, Hospital Admissions, Ventilator Bed Occupancy, data for England and Wales.</p>\",\n",
    "# )\n",
    "\n",
    "# instructions_text = widgets.HTML(\n",
    "#     value=\"<h4>Instructions:</h4>\"\n",
    "#            \"<p>1. Choose a Country: Select 'England' or 'Wales' from the dropdown.</p>\"\n",
    "#            \"<p>2. Select Data Column: Choose a data column to plot from the dropdown (Cases, Hospital Admissions, or Ventilator Bed Occupancy).</p>\"\n",
    "#            \"<p>3. Click 'Update Data' to refresh the COVID-19 data.</p>\"\n",
    "#            \"<p>4. Click 'Plot Data' to generate the selected graph.</p>\",\n",
    "# )\n",
    "\n",
    "# display(explanation_text)\n",
    "# display(instructions_text)\n",
    "\n",
    "country_dropdown = widgets.Dropdown(options=['England', 'Wales'], description='Country:')\n",
    "column_dropdown = widgets.Dropdown(options=['All', 'Cases', 'Hospital Admissions', 'Ventilator Bed Occupancy'], description='Column:')\n",
    "plot_button = widgets.Button(description='Plot Data', button_style='success', icon='line-chart')\n",
    "\n",
    "plot_button.on_click(update_plot)\n",
    "display(country_dropdown, column_dropdown, update_button, plot_button,status_label, output_widget)"
   ]
  },
  {
   "cell_type": "markdown",
   "id": "7113d7de-7712-4f06-a0a9-8947515a2ecc",
   "metadata": {},
   "source": [
    "**Author and Copyright Notice** Based on UK Government [data](https://coronavirus.data.gov.uk/) published by [Public Health England](https://www.gov.uk/government/organisations/public-health-england) and on the [DIY Covid Dashboard Kit](https://github.com/fsmeraldi/diy-covid19dash) Copyright (C) Zinonas Mina 2023."
   ]
  }
 ],
 "metadata": {
  "kernelspec": {
   "display_name": "Python 3 (ipykernel)",
   "language": "python",
   "name": "python3"
  },
  "language_info": {
   "codemirror_mode": {
    "name": "ipython",
    "version": 3
   },
   "file_extension": ".py",
   "mimetype": "text/x-python",
   "name": "python",
   "nbconvert_exporter": "python",
   "pygments_lexer": "ipython3",
   "version": "3.10.13"
  }
 },
 "nbformat": 4,
 "nbformat_minor": 5
}
